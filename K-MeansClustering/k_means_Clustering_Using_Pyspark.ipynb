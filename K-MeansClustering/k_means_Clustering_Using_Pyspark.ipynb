{
  "cells": [
    {
      "cell_type": "markdown",
      "metadata": {
        "id": "WO-_O2V5bno3"
      },
      "source": [
        "## Clustering Using Pyspark\n",
        "\n",
        "For this project we will attempt to use KMeans Clustering to cluster Mall customer dataset.\n",
        "We will make segmentation of those customers.\n",
        "\n",
        "We will try 2 scenario to make cluster:\n",
        "1. Include OneHotEncoder process \n",
        "2. Exclude OneHotEncoder process"
      ]
    },
    {
      "cell_type": "markdown",
      "metadata": {
        "id": "CDAFKO_hbno8"
      },
      "source": [
        "### Pyspark Initializasing"
      ]
    },
    {
      "cell_type": "code",
      "source": [
        "!pip install findspark\n",
        "!pip install pyspark"
      ],
      "metadata": {
        "colab": {
          "base_uri": "https://localhost:8080/"
        },
        "id": "lq67ibBYbtyd",
        "outputId": "f1a2ea1b-6b13-4449-dc63-519e2bda1921"
      },
      "execution_count": 1,
      "outputs": [
        {
          "output_type": "stream",
          "name": "stdout",
          "text": [
            "Looking in indexes: https://pypi.org/simple, https://us-python.pkg.dev/colab-wheels/public/simple/\n",
            "Collecting findspark\n",
            "  Downloading findspark-2.0.1-py2.py3-none-any.whl (4.4 kB)\n",
            "Installing collected packages: findspark\n",
            "Successfully installed findspark-2.0.1\n",
            "Looking in indexes: https://pypi.org/simple, https://us-python.pkg.dev/colab-wheels/public/simple/\n",
            "Collecting pyspark\n",
            "  Downloading pyspark-3.3.0.tar.gz (281.3 MB)\n",
            "\u001b[K     |████████████████████████████████| 281.3 MB 47 kB/s \n",
            "\u001b[?25hCollecting py4j==0.10.9.5\n",
            "  Downloading py4j-0.10.9.5-py2.py3-none-any.whl (199 kB)\n",
            "\u001b[K     |████████████████████████████████| 199 kB 42.4 MB/s \n",
            "\u001b[?25hBuilding wheels for collected packages: pyspark\n",
            "  Building wheel for pyspark (setup.py) ... \u001b[?25l\u001b[?25hdone\n",
            "  Created wheel for pyspark: filename=pyspark-3.3.0-py2.py3-none-any.whl size=281764026 sha256=1c8672c22fbdcaabf015a6408e4bd278728356d25e3c689a2e51736c02bf1d78\n",
            "  Stored in directory: /root/.cache/pip/wheels/7a/8e/1b/f73a52650d2e5f337708d9f6a1750d451a7349a867f928b885\n",
            "Successfully built pyspark\n",
            "Installing collected packages: py4j, pyspark\n",
            "Successfully installed py4j-0.10.9.5 pyspark-3.3.0\n"
          ]
        }
      ]
    },
    {
      "cell_type": "code",
      "execution_count": 2,
      "metadata": {
        "collapsed": true,
        "id": "_DYQjDzfbno9"
      },
      "outputs": [],
      "source": [
        "# to make pyspark importable as a regular library\n",
        "import findspark\n",
        "findspark.init()\n",
        "\n",
        "import pyspark\n",
        "\n",
        "from pyspark import SparkContext\n",
        "sc = SparkContext.getOrCreate()\n",
        "\n",
        "#initializasing SparkSession for creating Spark DataFrame\n",
        "from pyspark.sql import SparkSession\n",
        "spark = SparkSession.builder.getOrCreate()"
      ]
    },
    {
      "cell_type": "markdown",
      "metadata": {
        "id": "1k2R7124bnpI"
      },
      "source": [
        "### Load Libraries"
      ]
    },
    {
      "cell_type": "code",
      "execution_count": 3,
      "metadata": {
        "collapsed": true,
        "id": "_hxbFmhobnpK"
      },
      "outputs": [],
      "source": [
        "# Data Frame spark profiling \n",
        "from pyspark.sql.types import IntegerType, StringType, DoubleType, ShortType, DecimalType\n",
        "import pyspark.sql.functions as func\n",
        "from pyspark.sql.functions import isnull\n",
        "from pyspark.sql.functions import isnan, when, count, col, round\n",
        "from pyspark.sql.functions import mean\n",
        "from pyspark.sql.types import Row\n",
        "import matplotlib.pyplot as plt\n",
        "from pyspark.sql.functions import udf\n",
        "\n",
        "\n",
        "# Pandas DF operation\n",
        "import pandas as pd\n",
        "import numpy as np\n",
        "import matplotlib.pyplot as plt\n",
        "import seaborn as sns\n",
        "from numpy import array\n",
        "\n",
        "# Modeling + Evaluation\n",
        "from pyspark.ml.feature import VectorAssembler, VectorIndexer, OneHotEncoder, StringIndexer\n",
        "from pyspark.sql.functions import when\n",
        "from pyspark.sql import functions as F\n",
        "from pyspark.sql.functions import avg\n",
        "from pyspark.ml import Pipeline\n",
        "from pyspark.ml.clustering import KMeans\n",
        "from pyspark.ml.feature import StandardScaler\n",
        "from mpl_toolkits.mplot3d import Axes3D\n"
      ]
    },
    {
      "cell_type": "markdown",
      "metadata": {
        "id": "fxJwLpJZbnpL"
      },
      "source": [
        "### Load Data to Spark DataFrame"
      ]
    },
    {
      "cell_type": "code",
      "execution_count": 4,
      "metadata": {
        "collapsed": true,
        "id": "gybMWJjgbnpM"
      },
      "outputs": [],
      "source": [
        "#Initializing File Type\n",
        "file_type = 'text'\n",
        "path=r'Mall_Customers.csv'\n",
        "delimeter=','"
      ]
    },
    {
      "cell_type": "code",
      "execution_count": 5,
      "metadata": {
        "collapsed": true,
        "id": "Qg-kBgD8bnpN"
      },
      "outputs": [],
      "source": [
        "def load_data(file_type):\n",
        "    \"\"\"input type of file \"text\" or \"parquet\" and Return pyspark dataframe\"\"\"\n",
        "    if file_type ==\"text\": # use text as file type input\n",
        "        df = spark.read.option(\"header\", \"true\") \\\n",
        "        .option(\"delimeter\",delimeter)\\\n",
        "        .option(\"inferSchema\", \"true\") \\\n",
        "        .csv(path) \n",
        "    else:  \n",
        "        df= spark.read.parquet(\"example.parquet\") #path file that you want import\n",
        "    return df"
      ]
    },
    {
      "cell_type": "code",
      "execution_count": 6,
      "metadata": {
        "collapsed": true,
        "id": "CjYOyUd1bnpQ"
      },
      "outputs": [],
      "source": [
        "df = load_data(file_type)"
      ]
    },
    {
      "cell_type": "code",
      "execution_count": 7,
      "metadata": {
        "colab": {
          "base_uri": "https://localhost:8080/"
        },
        "id": "sgM9qLaIbnpS",
        "outputId": "5fbdf505-6446-416b-98c8-c877bf5638c5"
      },
      "outputs": [
        {
          "output_type": "stream",
          "name": "stdout",
          "text": [
            "Help on function load_data in module __main__:\n",
            "\n",
            "load_data(file_type)\n",
            "    input type of file \"text\" or \"parquet\" and Return pyspark dataframe\n",
            "\n"
          ]
        }
      ],
      "source": [
        "help(load_data)"
      ]
    },
    {
      "cell_type": "markdown",
      "metadata": {
        "id": "akSlRixCbnpU"
      },
      "source": [
        "### Check Data"
      ]
    },
    {
      "cell_type": "code",
      "execution_count": 8,
      "metadata": {
        "colab": {
          "base_uri": "https://localhost:8080/"
        },
        "id": "4nJM6E8VbnpU",
        "outputId": "97dfd1ad-101c-4b3a-84ca-096a67f7207e"
      },
      "outputs": [
        {
          "output_type": "execute_result",
          "data": {
            "text/plain": [
              "pyspark.sql.dataframe.DataFrame"
            ]
          },
          "metadata": {},
          "execution_count": 8
        }
      ],
      "source": [
        "type(df)"
      ]
    },
    {
      "cell_type": "code",
      "execution_count": 11,
      "metadata": {
        "colab": {
          "base_uri": "https://localhost:8080/"
        },
        "id": "ZVyOghK9bnpV",
        "outputId": "b30f9521-5402-4e34-e094-9238454a1fe9"
      },
      "outputs": [
        {
          "output_type": "stream",
          "name": "stdout",
          "text": [
            "+----------+------+---+------------------+----------------------+\n",
            "|CustomerID|Gender|Age|Annual Income (k$)|Spending Score (1-100)|\n",
            "+----------+------+---+------------------+----------------------+\n",
            "|         1|  Male| 19|                15|                    39|\n",
            "|         2|  Male| 21|                15|                    81|\n",
            "|         3|Female| 20|                16|                     6|\n",
            "|         4|Female| 23|                16|                    77|\n",
            "|         5|Female| 31|                17|                    40|\n",
            "|         6|Female| 22|                17|                    76|\n",
            "|         7|Female| 35|                18|                     6|\n",
            "|         8|Female| 23|                18|                    94|\n",
            "|         9|  Male| 64|                19|                     3|\n",
            "|        10|Female| 30|                19|                    72|\n",
            "|        11|  Male| 67|                19|                    14|\n",
            "|        12|Female| 35|                19|                    99|\n",
            "|        13|Female| 58|                20|                    15|\n",
            "|        14|Female| 24|                20|                    77|\n",
            "|        15|  Male| 37|                20|                    13|\n",
            "|        16|  Male| 22|                20|                    79|\n",
            "|        17|Female| 35|                21|                    35|\n",
            "|        18|  Male| 20|                21|                    66|\n",
            "|        19|  Male| 52|                23|                    29|\n",
            "|        20|Female| 35|                23|                    98|\n",
            "|        21|  Male| 35|                24|                    35|\n",
            "|        22|  Male| 25|                24|                    73|\n",
            "|        23|Female| 46|                25|                     5|\n",
            "|        24|  Male| 31|                25|                    73|\n",
            "|        25|Female| 54|                28|                    14|\n",
            "|        26|  Male| 29|                28|                    82|\n",
            "|        27|Female| 45|                28|                    32|\n",
            "|        28|  Male| 35|                28|                    61|\n",
            "|        29|Female| 40|                29|                    31|\n",
            "|        30|Female| 23|                29|                    87|\n",
            "|        31|  Male| 60|                30|                     4|\n",
            "|        32|Female| 21|                30|                    73|\n",
            "|        33|  Male| 53|                33|                     4|\n",
            "|        34|  Male| 18|                33|                    92|\n",
            "|        35|Female| 49|                33|                    14|\n",
            "|        36|Female| 21|                33|                    81|\n",
            "|        37|Female| 42|                34|                    17|\n",
            "|        38|Female| 30|                34|                    73|\n",
            "|        39|Female| 36|                37|                    26|\n",
            "|        40|Female| 20|                37|                    75|\n",
            "|        41|Female| 65|                38|                    35|\n",
            "|        42|  Male| 24|                38|                    92|\n",
            "|        43|  Male| 48|                39|                    36|\n",
            "|        44|Female| 31|                39|                    61|\n",
            "|        45|Female| 49|                39|                    28|\n",
            "|        46|Female| 24|                39|                    65|\n",
            "|        47|Female| 50|                40|                    55|\n",
            "|        48|Female| 27|                40|                    47|\n",
            "|        49|Female| 29|                40|                    42|\n",
            "|        50|Female| 31|                40|                    42|\n",
            "+----------+------+---+------------------+----------------------+\n",
            "only showing top 50 rows\n",
            "\n"
          ]
        }
      ],
      "source": [
        "#show 50 observation in DataFrame\n",
        "df.show(50)"
      ]
    },
    {
      "cell_type": "code",
      "execution_count": 12,
      "metadata": {
        "colab": {
          "base_uri": "https://localhost:8080/"
        },
        "id": "Gql-O5nSbnpX",
        "outputId": "f3e0f998-1717-4e25-a2f8-6a61082331c8"
      },
      "outputs": [
        {
          "output_type": "stream",
          "name": "stdout",
          "text": [
            "root\n",
            " |-- CustomerID: integer (nullable = true)\n",
            " |-- Gender: string (nullable = true)\n",
            " |-- Age: integer (nullable = true)\n",
            " |-- Annual Income (k$): integer (nullable = true)\n",
            " |-- Spending Score (1-100): integer (nullable = true)\n",
            "\n"
          ]
        }
      ],
      "source": [
        "#Print Schema\n",
        "df.printSchema()"
      ]
    },
    {
      "cell_type": "code",
      "execution_count": 13,
      "metadata": {
        "collapsed": true,
        "id": "rp4lRYl9bnpY"
      },
      "outputs": [],
      "source": [
        "#rename column name\n",
        "df=df.withColumnRenamed('CustomerID','Id')\n",
        "df=df.withColumnRenamed('Annual Income (k$)','AnnIncome')\n",
        "df=df.withColumnRenamed('Spending Score (1-100)','SpendScore')"
      ]
    },
    {
      "cell_type": "code",
      "execution_count": 14,
      "metadata": {
        "colab": {
          "base_uri": "https://localhost:8080/"
        },
        "id": "St5fDCkkbnpY",
        "outputId": "500a93b8-80f7-4dc0-cc46-60d8ce9b1b63"
      },
      "outputs": [
        {
          "output_type": "execute_result",
          "data": {
            "text/plain": [
              "(5, ['Id', 'Gender', 'Age', 'AnnIncome', 'SpendScore'])"
            ]
          },
          "metadata": {},
          "execution_count": 14
        }
      ],
      "source": [
        "len(df.columns), df.columns"
      ]
    },
    {
      "cell_type": "code",
      "execution_count": 15,
      "metadata": {
        "colab": {
          "base_uri": "https://localhost:8080/"
        },
        "id": "EVuCTUbEbnpZ",
        "outputId": "2108b3d7-50d0-451a-e7e5-c5b006669d01"
      },
      "outputs": [
        {
          "output_type": "stream",
          "name": "stdout",
          "text": [
            "cat_cols: ['Gender']\n",
            "num_cols: ['Id', 'Age', 'AnnIncome', 'SpendScore']\n"
          ]
        }
      ],
      "source": [
        "#Categorical and numerical variable\n",
        "\n",
        "cat_cols = [item[0] for item in df.dtypes if item[1].startswith('string')] #just will select string data type\n",
        "print(\"cat_cols:\", cat_cols)\n",
        "num_cols = [item[0] for item in df.dtypes if item[1].startswith('int') | item[1].startswith('double')] #just will select integer or double data type\n",
        "print(\"num_cols:\", num_cols)"
      ]
    },
    {
      "cell_type": "code",
      "execution_count": 16,
      "metadata": {
        "colab": {
          "base_uri": "https://localhost:8080/"
        },
        "id": "g2fkIsETbnpa",
        "outputId": "16cdf6f6-1cc0-484b-f909-8083d40b80a5"
      },
      "outputs": [
        {
          "output_type": "stream",
          "name": "stdout",
          "text": [
            "num_id: Id\n",
            "['Id']\n",
            "['Age', 'AnnIncome', 'SpendScore']\n"
          ]
        }
      ],
      "source": [
        "#Select column 'Id' from num_cols\n",
        "num_id=num_cols.pop(0)\n",
        "print(\"num_id:\", num_id)\n",
        "\n",
        "#save column 'Id' in num_id variable\n",
        "num_id=[num_id]\n",
        "\n",
        "#print num_id\n",
        "print(num_id)\n",
        "\n",
        "#print num_cols\n",
        "print(num_cols)"
      ]
    },
    {
      "cell_type": "code",
      "execution_count": 17,
      "metadata": {
        "colab": {
          "base_uri": "https://localhost:8080/"
        },
        "id": "B764q7lcbnpb",
        "outputId": "44123c66-8fd2-4afa-c0e1-17f6c690b07e"
      },
      "outputs": [
        {
          "output_type": "execute_result",
          "data": {
            "text/plain": [
              "200"
            ]
          },
          "metadata": {},
          "execution_count": 17
        }
      ],
      "source": [
        "#count number of observation\n",
        "df.count()"
      ]
    },
    {
      "cell_type": "code",
      "execution_count": 18,
      "metadata": {
        "colab": {
          "base_uri": "https://localhost:8080/"
        },
        "id": "EfeT2A0jbnpc",
        "outputId": "e6f306d6-81fe-4e7c-b392-1a190308cb78"
      },
      "outputs": [
        {
          "output_type": "stream",
          "name": "stdout",
          "text": [
            "+-------+-----------------+-----------------+------------------+\n",
            "|summary|              Age|        AnnIncome|        SpendScore|\n",
            "+-------+-----------------+-----------------+------------------+\n",
            "|  count|              200|              200|               200|\n",
            "|   mean|            38.85|            60.56|              50.2|\n",
            "| stddev|13.96900733155888|26.26472116527124|25.823521668370173|\n",
            "|    min|               18|               15|                 1|\n",
            "|    max|               70|              137|                99|\n",
            "+-------+-----------------+-----------------+------------------+\n",
            "\n"
          ]
        }
      ],
      "source": [
        "# Check summary statistic of numerical columns\n",
        "df.select(num_cols).describe().show()"
      ]
    },
    {
      "cell_type": "markdown",
      "metadata": {
        "id": "7oAO9K6qbnpd"
      },
      "source": [
        "### Check Missing Value"
      ]
    },
    {
      "cell_type": "markdown",
      "metadata": {
        "id": "yttQZmNjbnpe"
      },
      "source": [
        "We are using two metode to check missing values:\n",
        "1. Using pandas dataframe\n",
        "2. Using pyspark dataframe"
      ]
    },
    {
      "cell_type": "code",
      "execution_count": 19,
      "metadata": {
        "collapsed": true,
        "id": "XjgReGZFbnpf"
      },
      "outputs": [],
      "source": [
        "#convert to pandas DataFrame\n",
        "df_pd=df.toPandas()"
      ]
    },
    {
      "cell_type": "code",
      "execution_count": 20,
      "metadata": {
        "collapsed": true,
        "id": "eP3wuMIObnph"
      },
      "outputs": [],
      "source": [
        "#Check Missing value with proportion in Pandas DataFrame\n",
        "\n",
        "def missing_values_table(df_pd):\n",
        "    \"\"\"Input pandas dataframe and Return columns with missing value&percentage and stored as pandas dataframe\"\"\"\n",
        "    mis_val = df_pd.isnull().sum() #count total of null in each columns in dataframe\n",
        "    mis_val_percent = 100 * df_pd.isnull().sum() / len(df_pd) #count percentage of null in each columns\n",
        "    mis_val_table = pd.concat([mis_val, mis_val_percent], axis=1)  #join to left (as column) between mis_val and mis_val_percent and create it as dataframe\n",
        "    mis_val_table_ren_columns = mis_val_table.rename(\n",
        "    columns = {0 : 'Missing Values', 1 : '% of Total Values'}) #rename columns in table, mis_val to Missing Values and mis_val_percent to % of Total Values\n",
        "    mis_val_table_ren_columns = mis_val_table_ren_columns[\n",
        "    mis_val_table_ren_columns.iloc[:,1] != 0].sort_values(\n",
        "    '% of Total Values', ascending=False).round(1)         #sort column % of Total Values descending and round 1 after point(coma)\n",
        "    print (\"Your selected dataframe has \" + str(df_pd.shape[1]) + \" columns.\\n\"    #.shape[1] : just view total columns in dataframe  \n",
        "    \"There are \" + str(mis_val_table_ren_columns.shape[0]) +              \n",
        "    \" columns that have missing values.\") #.shape[0] : just view total rows in dataframe\n",
        "    return mis_val_table_ren_columns"
      ]
    },
    {
      "cell_type": "code",
      "execution_count": 21,
      "metadata": {
        "colab": {
          "base_uri": "https://localhost:8080/"
        },
        "id": "lDplzSoibnpi",
        "outputId": "78c1d9af-85e2-4e3d-8c5e-4d64b20ec427"
      },
      "outputs": [
        {
          "output_type": "stream",
          "name": "stdout",
          "text": [
            "Help on function missing_values_table in module __main__:\n",
            "\n",
            "missing_values_table(df_pd)\n",
            "    Input pandas dataframe and Return columns with missing value&percentage and stored as pandas dataframe\n",
            "\n"
          ]
        }
      ],
      "source": [
        "help(missing_values_table)"
      ]
    },
    {
      "cell_type": "code",
      "execution_count": 22,
      "metadata": {
        "colab": {
          "base_uri": "https://localhost:8080/",
          "height": 84
        },
        "id": "FhV5fPVubnpk",
        "outputId": "15d3fac9-62c6-49a6-c069-be62667269ef"
      },
      "outputs": [
        {
          "output_type": "stream",
          "name": "stdout",
          "text": [
            "Your selected dataframe has 5 columns.\n",
            "There are 0 columns that have missing values.\n"
          ]
        },
        {
          "output_type": "execute_result",
          "data": {
            "text/plain": [
              "Empty DataFrame\n",
              "Columns: [Missing Values, % of Total Values]\n",
              "Index: []"
            ],
            "text/html": [
              "\n",
              "  <div id=\"df-0413abe7-7824-4c31-b53d-26eb5b01f09a\">\n",
              "    <div class=\"colab-df-container\">\n",
              "      <div>\n",
              "<style scoped>\n",
              "    .dataframe tbody tr th:only-of-type {\n",
              "        vertical-align: middle;\n",
              "    }\n",
              "\n",
              "    .dataframe tbody tr th {\n",
              "        vertical-align: top;\n",
              "    }\n",
              "\n",
              "    .dataframe thead th {\n",
              "        text-align: right;\n",
              "    }\n",
              "</style>\n",
              "<table border=\"1\" class=\"dataframe\">\n",
              "  <thead>\n",
              "    <tr style=\"text-align: right;\">\n",
              "      <th></th>\n",
              "      <th>Missing Values</th>\n",
              "      <th>% of Total Values</th>\n",
              "    </tr>\n",
              "  </thead>\n",
              "  <tbody>\n",
              "  </tbody>\n",
              "</table>\n",
              "</div>\n",
              "      <button class=\"colab-df-convert\" onclick=\"convertToInteractive('df-0413abe7-7824-4c31-b53d-26eb5b01f09a')\"\n",
              "              title=\"Convert this dataframe to an interactive table.\"\n",
              "              style=\"display:none;\">\n",
              "        \n",
              "  <svg xmlns=\"http://www.w3.org/2000/svg\" height=\"24px\"viewBox=\"0 0 24 24\"\n",
              "       width=\"24px\">\n",
              "    <path d=\"M0 0h24v24H0V0z\" fill=\"none\"/>\n",
              "    <path d=\"M18.56 5.44l.94 2.06.94-2.06 2.06-.94-2.06-.94-.94-2.06-.94 2.06-2.06.94zm-11 1L8.5 8.5l.94-2.06 2.06-.94-2.06-.94L8.5 2.5l-.94 2.06-2.06.94zm10 10l.94 2.06.94-2.06 2.06-.94-2.06-.94-.94-2.06-.94 2.06-2.06.94z\"/><path d=\"M17.41 7.96l-1.37-1.37c-.4-.4-.92-.59-1.43-.59-.52 0-1.04.2-1.43.59L10.3 9.45l-7.72 7.72c-.78.78-.78 2.05 0 2.83L4 21.41c.39.39.9.59 1.41.59.51 0 1.02-.2 1.41-.59l7.78-7.78 2.81-2.81c.8-.78.8-2.07 0-2.86zM5.41 20L4 18.59l7.72-7.72 1.47 1.35L5.41 20z\"/>\n",
              "  </svg>\n",
              "      </button>\n",
              "      \n",
              "  <style>\n",
              "    .colab-df-container {\n",
              "      display:flex;\n",
              "      flex-wrap:wrap;\n",
              "      gap: 12px;\n",
              "    }\n",
              "\n",
              "    .colab-df-convert {\n",
              "      background-color: #E8F0FE;\n",
              "      border: none;\n",
              "      border-radius: 50%;\n",
              "      cursor: pointer;\n",
              "      display: none;\n",
              "      fill: #1967D2;\n",
              "      height: 32px;\n",
              "      padding: 0 0 0 0;\n",
              "      width: 32px;\n",
              "    }\n",
              "\n",
              "    .colab-df-convert:hover {\n",
              "      background-color: #E2EBFA;\n",
              "      box-shadow: 0px 1px 2px rgba(60, 64, 67, 0.3), 0px 1px 3px 1px rgba(60, 64, 67, 0.15);\n",
              "      fill: #174EA6;\n",
              "    }\n",
              "\n",
              "    [theme=dark] .colab-df-convert {\n",
              "      background-color: #3B4455;\n",
              "      fill: #D2E3FC;\n",
              "    }\n",
              "\n",
              "    [theme=dark] .colab-df-convert:hover {\n",
              "      background-color: #434B5C;\n",
              "      box-shadow: 0px 1px 3px 1px rgba(0, 0, 0, 0.15);\n",
              "      filter: drop-shadow(0px 1px 2px rgba(0, 0, 0, 0.3));\n",
              "      fill: #FFFFFF;\n",
              "    }\n",
              "  </style>\n",
              "\n",
              "      <script>\n",
              "        const buttonEl =\n",
              "          document.querySelector('#df-0413abe7-7824-4c31-b53d-26eb5b01f09a button.colab-df-convert');\n",
              "        buttonEl.style.display =\n",
              "          google.colab.kernel.accessAllowed ? 'block' : 'none';\n",
              "\n",
              "        async function convertToInteractive(key) {\n",
              "          const element = document.querySelector('#df-0413abe7-7824-4c31-b53d-26eb5b01f09a');\n",
              "          const dataTable =\n",
              "            await google.colab.kernel.invokeFunction('convertToInteractive',\n",
              "                                                     [key], {});\n",
              "          if (!dataTable) return;\n",
              "\n",
              "          const docLinkHtml = 'Like what you see? Visit the ' +\n",
              "            '<a target=\"_blank\" href=https://colab.research.google.com/notebooks/data_table.ipynb>data table notebook</a>'\n",
              "            + ' to learn more about interactive tables.';\n",
              "          element.innerHTML = '';\n",
              "          dataTable['output_type'] = 'display_data';\n",
              "          await google.colab.output.renderOutput(dataTable, element);\n",
              "          const docLink = document.createElement('div');\n",
              "          docLink.innerHTML = docLinkHtml;\n",
              "          element.appendChild(docLink);\n",
              "        }\n",
              "      </script>\n",
              "    </div>\n",
              "  </div>\n",
              "  "
            ]
          },
          "metadata": {},
          "execution_count": 22
        }
      ],
      "source": [
        "missing_values_table(df_pd)"
      ]
    },
    {
      "cell_type": "code",
      "execution_count": 23,
      "metadata": {
        "collapsed": true,
        "id": "5t5LiSrEbnpl"
      },
      "outputs": [],
      "source": [
        "#Check Missing Value in Pyspark Dataframe\n",
        "def count_nulls(df_final):\n",
        "    \"\"\"Input pyspark dataframe and return list of columns with missing value and it's total value\"\"\"\n",
        "    null_counts = []          #make an empty list to hold our results\n",
        "    for col in df.dtypes:     #iterate through the column data types we saw above, e.g. ('C0', 'bigint')\n",
        "        cname = col[0]        #splits out the column name, e.g. 'C0'    \n",
        "        ctype = col[1]        #splits out the column type, e.g. 'bigint'\n",
        "        nulls = df.where( df[cname].isNull() ).count() #check count of null in column name\n",
        "        result = tuple([cname, nulls])  #new tuple, (column name, null count)\n",
        "        null_counts.append(result)      #put the new tuple in our result list\n",
        "    null_counts=[(x,y) for (x,y) in null_counts if y!=0]  #view just columns that have missing values\n",
        "    return null_counts"
      ]
    },
    {
      "cell_type": "code",
      "execution_count": 24,
      "metadata": {
        "colab": {
          "base_uri": "https://localhost:8080/"
        },
        "id": "fuh5JhUsbnpl",
        "outputId": "4f84d959-4266-4267-9683-9e4cbaf409d6"
      },
      "outputs": [
        {
          "output_type": "stream",
          "name": "stdout",
          "text": [
            "Help on function count_nulls in module __main__:\n",
            "\n",
            "count_nulls(df_final)\n",
            "    Input pyspark dataframe and return list of columns with missing value and it's total value\n",
            "\n"
          ]
        }
      ],
      "source": [
        "help(count_nulls)"
      ]
    },
    {
      "cell_type": "code",
      "execution_count": 25,
      "metadata": {
        "colab": {
          "base_uri": "https://localhost:8080/"
        },
        "id": "0jE3l_AUbnpm",
        "outputId": "d967a565-63ce-4dc8-d771-5417d9556845"
      },
      "outputs": [
        {
          "output_type": "execute_result",
          "data": {
            "text/plain": [
              "[]"
            ]
          },
          "metadata": {},
          "execution_count": 25
        }
      ],
      "source": [
        "null_counts = count_nulls(df)\n",
        "null_counts"
      ]
    },
    {
      "cell_type": "markdown",
      "metadata": {
        "id": "eMDHzT3fbnpn"
      },
      "source": [
        "From function count_nulls above we get information all columns that has missing values with it's numbers and save in list \"null_counts\".\n",
        "\n",
        "null_counts = [('Genre', 5), ('Annual Income (k$)', 4), ('Spending Score (1-100)', 5)]\n",
        "\n",
        "From null_counts, we just take information of columns name and save in list \"list_cols_miss\", like in the script below:"
      ]
    },
    {
      "cell_type": "code",
      "execution_count": 26,
      "metadata": {
        "colab": {
          "base_uri": "https://localhost:8080/"
        },
        "id": "pJ-iuUkObnpn",
        "outputId": "cacd50e7-5fc2-45e2-fbd0-436cfa4c9436"
      },
      "outputs": [
        {
          "output_type": "execute_result",
          "data": {
            "text/plain": [
              "[]"
            ]
          },
          "metadata": {},
          "execution_count": 26
        }
      ],
      "source": [
        "list_cols_miss=[x[0] for x in null_counts]\n",
        "list_cols_miss"
      ]
    },
    {
      "cell_type": "markdown",
      "metadata": {
        "id": "x-AqzB5dbnpo"
      },
      "source": [
        "From list_cols_miss create dataframe called \"df_miss\". The aim is to define categorical and numerical columns which have missing values. \n",
        "As the process of handling missing values will be diffrent between  numerical dan categorical variables."
      ]
    },
    {
      "cell_type": "code",
      "execution_count": 27,
      "metadata": {
        "collapsed": true,
        "id": "E7IqeylCbnpp"
      },
      "outputs": [],
      "source": [
        "#Create dataframe which just has list_cols_miss\n",
        "df_miss= df.select(*list_cols_miss)"
      ]
    },
    {
      "cell_type": "code",
      "execution_count": 28,
      "metadata": {
        "colab": {
          "base_uri": "https://localhost:8080/"
        },
        "id": "ki58ldKJbnpp",
        "outputId": "4f913436-c631-4078-8e99-5b1986bbd11f"
      },
      "outputs": [
        {
          "output_type": "execute_result",
          "data": {
            "text/plain": [
              "[]"
            ]
          },
          "metadata": {},
          "execution_count": 28
        }
      ],
      "source": [
        "df_miss.dtypes"
      ]
    },
    {
      "cell_type": "markdown",
      "metadata": {
        "id": "Ta_ROip3bnpq"
      },
      "source": [
        "After we create \"df_miss\", we split to categorical and numerical columns which have missing value.\n",
        "for categorical columns we  called \"catcolums_miss\" and for numerical columns we called \"numcolumns_miss\". \n",
        "Like in script below:"
      ]
    },
    {
      "cell_type": "code",
      "execution_count": 29,
      "metadata": {
        "colab": {
          "base_uri": "https://localhost:8080/"
        },
        "id": "TiOyTSAsbnpr",
        "outputId": "ec3f0098-fda9-43d1-874a-28f426b30e39"
      },
      "outputs": [
        {
          "output_type": "stream",
          "name": "stdout",
          "text": [
            "catcolums_miss: []\n",
            "numcolumns_miss: []\n"
          ]
        }
      ],
      "source": [
        "#Define categorical columns and numerical columns which have missing value.\n",
        "### for categorical columns\n",
        "catcolums_miss=[item[0] for item in df_miss.dtypes if item[1].startswith('string')]  #will select name of column with string data type\n",
        "print(\"catcolums_miss:\", catcolums_miss)\n",
        "\n",
        "### for numerical columns\n",
        "numcolumns_miss = [item[0] for item in df_miss.dtypes if item[1].startswith('int') | item[1].startswith('double')] #will select name of column with integer or double data type\n",
        "print(\"numcolumns_miss:\", numcolumns_miss)"
      ]
    },
    {
      "cell_type": "markdown",
      "metadata": {
        "id": "fMuhZXHobnps"
      },
      "source": [
        "#### Handle Missing Values\n",
        "So, in this module we will use pyspark dataframe to check missing values.\n",
        "\n",
        "For categorical columns we use most frequent to fill missing values. Therefore we have to count categories which has max values in each columns by counting and sorting descenting each columns in dataframe with no has missing values. Therefore we drop missing values and save in new dataframe called \"df_Nomiss\".\n",
        "For numerical columns we fill missing values with average in it's columns."
      ]
    },
    {
      "cell_type": "code",
      "execution_count": 30,
      "metadata": {
        "collapsed": true,
        "id": "Q-UhlYqjbnpt"
      },
      "outputs": [],
      "source": [
        "#Drop missing value\n",
        "df_Nomiss=df.na.drop()"
      ]
    },
    {
      "cell_type": "code",
      "execution_count": 31,
      "metadata": {
        "colab": {
          "base_uri": "https://localhost:8080/"
        },
        "id": "nTeP5vjjbnpu",
        "outputId": "a122385c-635c-43c3-8c9c-840647ee5602"
      },
      "outputs": [
        {
          "output_type": "stream",
          "name": "stdout",
          "text": [
            "+---+------+---+---------+----------+\n",
            "| Id|Gender|Age|AnnIncome|SpendScore|\n",
            "+---+------+---+---------+----------+\n",
            "|  1|  Male| 19|       15|        39|\n",
            "|  2|  Male| 21|       15|        81|\n",
            "|  3|Female| 20|       16|         6|\n",
            "|  4|Female| 23|       16|        77|\n",
            "+---+------+---+---------+----------+\n",
            "only showing top 4 rows\n",
            "\n"
          ]
        }
      ],
      "source": [
        "df_Nomiss.show(4)"
      ]
    },
    {
      "cell_type": "code",
      "execution_count": 32,
      "metadata": {
        "id": "vzfDS1ORbnpu"
      },
      "outputs": [],
      "source": [
        "#fill missing value in categorical variable with most frequent\n",
        "for x in catcolums_miss:\n",
        "    mode=df_Nomiss.groupBy(x).count().sort(col(\"count\").desc()).collect()[0][0] #group by based on categories and count each categories and sort descending then take the first value in column\n",
        "    print(x, mode) #print name of columns and it's most categories \n",
        "    df = df.na.fill({x:mode}) #fill missing value in each columns with most frequent"
      ]
    },
    {
      "cell_type": "code",
      "execution_count": 33,
      "metadata": {
        "id": "fV32jN-vbnpv"
      },
      "outputs": [],
      "source": [
        "#fill missing value in numerical variable with average\n",
        "for i in numcolumns_miss:\n",
        "    meanvalue = df.select(round(mean(i))).collect()[0][0] #calculate average in each numerical column\n",
        "    print(i, meanvalue) #print name of columns and it's average value\n",
        "    df=df.na.fill({i:meanvalue}) #fill missing value in each columns with it's average value"
      ]
    },
    {
      "cell_type": "code",
      "execution_count": 34,
      "metadata": {
        "colab": {
          "base_uri": "https://localhost:8080/"
        },
        "id": "SzTnLA1Tbnpv",
        "outputId": "1caf4c33-0ed7-4a2f-88c4-6df43c689b52"
      },
      "outputs": [
        {
          "output_type": "execute_result",
          "data": {
            "text/plain": [
              "[]"
            ]
          },
          "metadata": {},
          "execution_count": 34
        }
      ],
      "source": [
        "#Check Missing value after filling\n",
        "null_counts = count_nulls(df)\n",
        "null_counts"
      ]
    },
    {
      "cell_type": "markdown",
      "metadata": {
        "id": "OOhTDieAbnpw"
      },
      "source": [
        "Now, output null_counts is null, it's mean no more columns that have missing values."
      ]
    },
    {
      "cell_type": "markdown",
      "metadata": {
        "id": "FUMjhUENbnpz"
      },
      "source": [
        "### EDA\n",
        "Pyspark dataframe has limitation in visualization. Then to create visualization we have to convert pyspark dataframe to pandas dataframe."
      ]
    },
    {
      "cell_type": "code",
      "execution_count": 35,
      "metadata": {
        "collapsed": true,
        "id": "cUZxVFsCbnp1"
      },
      "outputs": [],
      "source": [
        "# convert spark dataframe to pandas for visualization\n",
        "df_pd2=df.toPandas()"
      ]
    },
    {
      "cell_type": "markdown",
      "metadata": {
        "id": "t6chmszQbnp2"
      },
      "source": [
        "#### Categorical Variables"
      ]
    },
    {
      "cell_type": "code",
      "execution_count": 38,
      "metadata": {
        "colab": {
          "base_uri": "https://localhost:8080/",
          "height": 309
        },
        "id": "OR5HH1LIbnp2",
        "outputId": "31f1d367-0c21-43b1-a36c-63dd8478bea2"
      },
      "outputs": [
        {
          "output_type": "display_data",
          "data": {
            "text/plain": [
              "<Figure size 1440x720 with 1 Axes>"
            ],
            "image/png": "[encoded data removed]"
          },
          "metadata": {
            "needs_background": "light"
          }
        }
      ],
      "source": [
        "#Barchart for categorical variable\n",
        "plt.figure(figsize=(20,10))\n",
        "plt.subplot(221)\n",
        "sns.countplot(x='Gender', data=df_pd2, order=df_pd['Gender'].value_counts().index)\n",
        "plt.show()"
      ]
    },
    {
      "cell_type": "markdown",
      "metadata": {
        "id": "KLbrb7Wdbnp3"
      },
      "source": [
        "#### Numerical Variables"
      ]
    },
    {
      "cell_type": "code",
      "execution_count": 39,
      "metadata": {
        "colab": {
          "base_uri": "https://localhost:8080/",
          "height": 334
        },
        "id": "_w9Feok5bnp4",
        "outputId": "039bdcad-28f1-4d62-c0c0-ee11b12a353e"
      },
      "outputs": [
        {
          "output_type": "stream",
          "name": "stderr",
          "text": [
            "/usr/local/lib/python3.7/dist-packages/seaborn/distributions.py:2619: FutureWarning: `distplot` is a deprecated function and will be removed in a future version. Please adapt your code to use either `displot` (a figure-level function with similar flexibility) or `histplot` (an axes-level function for histograms).\n",
            "  warnings.warn(msg, FutureWarning)\n"
          ]
        },
        {
          "output_type": "display_data",
          "data": {
            "text/plain": [
              "<Figure size 432x288 with 1 Axes>"
            ],
            "image/png": "[encoded data removed]"
          },
          "metadata": {
            "needs_background": "light"
          }
        }
      ],
      "source": [
        "#density plot Age\n",
        "#plt.figure(figsize=(24,5))\n",
        "sns.distplot(df_pd2['Age'])\n",
        "plt.show()"
      ]
    },
    {
      "cell_type": "code",
      "execution_count": 40,
      "metadata": {
        "colab": {
          "base_uri": "https://localhost:8080/",
          "height": 334
        },
        "id": "_7ifcfwpbnp4",
        "outputId": "7e20b15c-41f5-4c17-8bbc-46357406137a"
      },
      "outputs": [
        {
          "output_type": "stream",
          "name": "stderr",
          "text": [
            "/usr/local/lib/python3.7/dist-packages/seaborn/distributions.py:2619: FutureWarning: `distplot` is a deprecated function and will be removed in a future version. Please adapt your code to use either `displot` (a figure-level function with similar flexibility) or `histplot` (an axes-level function for histograms).\n",
            "  warnings.warn(msg, FutureWarning)\n"
          ]
        },
        {
          "output_type": "display_data",
          "data": {
            "text/plain": [
              "<Figure size 432x288 with 1 Axes>"
            ],
            "image/png": "[encoded data removed]"
          },
          "metadata": {
            "needs_background": "light"
          }
        }
      ],
      "source": [
        "#density plot Annual Income\n",
        "sns.distplot(df_pd2['AnnIncome'])\n",
        "plt.show()"
      ]
    },
    {
      "cell_type": "code",
      "execution_count": 41,
      "metadata": {
        "colab": {
          "base_uri": "https://localhost:8080/",
          "height": 338
        },
        "id": "HO5DHza4bnp5",
        "outputId": "d5304ba1-a9c3-4b05-850d-a8464835761e"
      },
      "outputs": [
        {
          "output_type": "stream",
          "name": "stderr",
          "text": [
            "/usr/local/lib/python3.7/dist-packages/seaborn/distributions.py:2619: FutureWarning: `distplot` is a deprecated function and will be removed in a future version. Please adapt your code to use either `displot` (a figure-level function with similar flexibility) or `histplot` (an axes-level function for histograms).\n",
            "  warnings.warn(msg, FutureWarning)\n"
          ]
        },
        {
          "output_type": "display_data",
          "data": {
            "text/plain": [
              "<Figure size 432x288 with 1 Axes>"
            ],
            "image/png": "[encoded data removed]"
          },
          "metadata": {
            "needs_background": "light"
          }
        }
      ],
      "source": [
        "#density plot Spending Score (1-100)\n",
        "sns.distplot(df_pd2['SpendScore'])\n",
        "plt.show()"
      ]
    },
    {
      "cell_type": "markdown",
      "metadata": {
        "id": "BcwqcKCybnp5"
      },
      "source": [
        "### Check outlier\n",
        "We will check outlier in all numerical variables, they are: 'Age', 'AnnIncome', 'SpendScore'."
      ]
    },
    {
      "cell_type": "code",
      "execution_count": 42,
      "metadata": {
        "colab": {
          "base_uri": "https://localhost:8080/",
          "height": 252
        },
        "id": "5m-QPSeybnp6",
        "outputId": "6ee198a0-ae05-438a-99f8-43b5cdb221db"
      },
      "outputs": [
        {
          "output_type": "display_data",
          "data": {
            "text/plain": [
              "<Figure size 432x288 with 1 Axes>"
            ],
            "image/png": "[encoded data removed]"
          },
          "metadata": {
            "needs_background": "light"
          }
        }
      ],
      "source": [
        "#Check outlier in numerical variable: 'Age'\n",
        "sns.boxplot(y=\"Age\",data=df_pd2)\n",
        "plt.show()"
      ]
    },
    {
      "cell_type": "code",
      "execution_count": 43,
      "metadata": {
        "colab": {
          "base_uri": "https://localhost:8080/",
          "height": 252
        },
        "id": "3gKQdeqPbnp6",
        "outputId": "0a4c6e9c-8782-44d7-c302-9229bc8cb9c6"
      },
      "outputs": [
        {
          "output_type": "display_data",
          "data": {
            "text/plain": [
              "<Figure size 432x288 with 1 Axes>"
            ],
            "image/png": "[encoded data removed]"
          },
          "metadata": {
            "needs_background": "light"
          }
        }
      ],
      "source": [
        "#Check outlier in numerical variable: 'AnnIncome'\n",
        "sns.boxplot(y=\"AnnIncome\",data=df_pd2)\n",
        "plt.show()"
      ]
    },
    {
      "cell_type": "code",
      "execution_count": 44,
      "metadata": {
        "colab": {
          "base_uri": "https://localhost:8080/",
          "height": 252
        },
        "id": "icKcMp5pbnp7",
        "outputId": "a2abeb44-7f7d-4ec2-8b95-d68f6839ce52"
      },
      "outputs": [
        {
          "output_type": "display_data",
          "data": {
            "text/plain": [
              "<Figure size 432x288 with 1 Axes>"
            ],
            "image/png": "[encoded data removed]"
          },
          "metadata": {
            "needs_background": "light"
          }
        }
      ],
      "source": [
        "#Check outlier in numerical variable: 'SpendScore'\n",
        "sns.boxplot(y=\"SpendScore\",data=df_pd2)\n",
        "plt.show()"
      ]
    },
    {
      "cell_type": "markdown",
      "metadata": {
        "id": "RnHWF5nwbnp8"
      },
      "source": [
        "From those bloxplot above, we can see outlier just in AnnIncome variable."
      ]
    },
    {
      "cell_type": "markdown",
      "metadata": {
        "id": "V8jqhNGtbnp9"
      },
      "source": [
        "### Handle of outlier\n",
        "Outlier is observations that fall below lower side or above upper side.\n",
        "\n",
        "To handle outlier we approach by replacing the value greater than upper side with upper side value and also replacing the value lower than lower side with lower side value.\n",
        "So, we need calculate upper and lower side from quantile value, quantile is probability distribution of variable. In General, there are three quantile:\n",
        "1. Q1 = the value that cut off 25% of the first data when it is sorted in ascending order. \n",
        "2. Q2 = cut off data, or median, it's 50 % of the data \n",
        "3. Q3 = the value that cut off 75% of the first data when it is sorted in ascending order.\n",
        "\n",
        "IQR or interquartile range is range between Q1 and Q3. IQR = Q3 - Q1.\n",
        "\n",
        "Upper side = Q3 + 1.5 * IQR\n",
        "\n",
        "Lower side = Q1 - 1.5 * IQR"
      ]
    },
    {
      "cell_type": "code",
      "execution_count": 45,
      "metadata": {
        "collapsed": true,
        "id": "mC6sHkgObnp9"
      },
      "outputs": [],
      "source": [
        "#create quantile dataframe\n",
        "def quantile(e):\n",
        "    \"\"\"Input is dataframe and return new dataframe with value of quantile from numerical columns\"\"\"\n",
        "    percentiles = [0.25, 0.5, 0.75]\n",
        "    quant=spark.createDataFrame(zip(percentiles, *e.approxQuantile(num_cols, percentiles, 0.0)),\n",
        "                               ['percentile']+num_cols) #calculate quantile from pyspark dataframe, 0.0 is relativeError,\n",
        "                                                        #The relative target precision to achieve (>= 0). If set to zero, \n",
        "                                                        #the exact quantiles are computed, which could be very expensive\n",
        "                                                        #and aggregate the result with percentiles variable, \n",
        "                                                        #then create pyspark dataframe\n",
        "    return quant"
      ]
    },
    {
      "cell_type": "code",
      "execution_count": 46,
      "metadata": {
        "collapsed": true,
        "id": "3rWEdfFVbnp-"
      },
      "outputs": [],
      "source": [
        "quantile=quantile(df)"
      ]
    },
    {
      "cell_type": "code",
      "execution_count": 47,
      "metadata": {
        "collapsed": true,
        "id": "kSTJ1J_Ebnp_"
      },
      "outputs": [],
      "source": [
        "def upper_value(b,c):\n",
        "    \"\"\"Input is quantile dataframe and name of numerical column and Retrun upper value from the column\"\"\"\n",
        "    q1 = b.select(c).collect()[0][0] #select value of q1 from the column\n",
        "    q2 = b.select(c).collect()[1][0] #select value of q2 from the column\n",
        "    q3 = b.select(c).collect()[2][0] #select value of q3 from the column\n",
        "    IQR=q3-q1  #calculate the value of IQR\n",
        "    upper= q3 + (IQR*1.5)   #calculate the value of upper side\n",
        "    return upper"
      ]
    },
    {
      "cell_type": "code",
      "execution_count": 48,
      "metadata": {
        "colab": {
          "base_uri": "https://localhost:8080/"
        },
        "id": "GKPqJPnebnp_",
        "outputId": "4c7dfe16-874f-4553-f955-df2e75692901"
      },
      "outputs": [
        {
          "output_type": "stream",
          "name": "stdout",
          "text": [
            "Help on function upper_value in module __main__:\n",
            "\n",
            "upper_value(b, c)\n",
            "    Input is quantile dataframe and name of numerical column and Retrun upper value from the column\n",
            "\n"
          ]
        }
      ],
      "source": [
        "help(upper_value)"
      ]
    },
    {
      "cell_type": "code",
      "execution_count": 49,
      "metadata": {
        "collapsed": true,
        "id": "XQy7joTpbnqB"
      },
      "outputs": [],
      "source": [
        "def lower_value(b,c):\n",
        "    \"\"\"Input is quantile dataframe and name of numerical column and Retrun lower value from the column\"\"\"\n",
        "    q1 = b.select(c).collect()[0][0] #select value of q1 from the column\n",
        "    q2 = b.select(c).collect()[1][0] #select value of q2 from the column\n",
        "    q3 = b.select(c).collect()[2][0] #select value of q3 from the column\n",
        "    IQR=q3-q1                   #calculate the value of IQR\n",
        "    lower= q1 - (IQR*1.5)       #calculate the value of lower side\n",
        "    return lower"
      ]
    },
    {
      "cell_type": "code",
      "execution_count": 50,
      "metadata": {
        "colab": {
          "base_uri": "https://localhost:8080/"
        },
        "id": "8IjflQo1bnqF",
        "outputId": "c115f52b-7c25-4e77-93ce-8b70834f3f9a"
      },
      "outputs": [
        {
          "output_type": "stream",
          "name": "stdout",
          "text": [
            "Help on function lower_value in module __main__:\n",
            "\n",
            "lower_value(b, c)\n",
            "    Input is quantile dataframe and name of numerical column and Retrun lower value from the column\n",
            "\n"
          ]
        }
      ],
      "source": [
        "help(lower_value)"
      ]
    },
    {
      "cell_type": "markdown",
      "metadata": {
        "id": "T1W3Rm4TbnqG"
      },
      "source": [
        "#### Replacing outlier"
      ]
    },
    {
      "cell_type": "code",
      "execution_count": 51,
      "metadata": {
        "collapsed": true,
        "id": "8Hpg2DQKbnqH"
      },
      "outputs": [],
      "source": [
        "def replce_outlier_up2(d,col, value):\n",
        "    \"\"\"Input is name of numerical column and it's upper side value\"\"\"\n",
        "    d=d.withColumn(col, F.when(d[col] > value , value).otherwise(d[col]))\n",
        "    return d"
      ]
    },
    {
      "cell_type": "code",
      "execution_count": 52,
      "metadata": {
        "collapsed": true,
        "id": "3TvfCd3PbnqI"
      },
      "outputs": [],
      "source": [
        "def replce_outlier_low2(d,col, value):\n",
        "    \"\"\"Input is name of numerical column and it's lower side value\"\"\"\n",
        "    d=d.withColumn(col, F.when(d[col] < value , value).otherwise(d[col]))\n",
        "    return d"
      ]
    },
    {
      "cell_type": "code",
      "execution_count": 53,
      "metadata": {
        "collapsed": true,
        "id": "mJ6XopAXbnqJ"
      },
      "outputs": [],
      "source": [
        "#call function to calculate lower side and replace value under lower side with value lower side\n",
        "for i in num_cols:\n",
        "    lower=lower_value(quantile,i)\n",
        "    df=replce_outlier_low2(df, i, lower)"
      ]
    },
    {
      "cell_type": "code",
      "execution_count": 54,
      "metadata": {
        "collapsed": true,
        "id": "BPuzClmBbnqK"
      },
      "outputs": [],
      "source": [
        "#call function to calculate upper side and replace value above upper side with value upper side\n",
        "for x in num_cols:\n",
        "    upper=upper_value(quantile,x)\n",
        "    df=replce_outlier_up2(df, x, upper)"
      ]
    },
    {
      "cell_type": "code",
      "execution_count": 55,
      "metadata": {
        "colab": {
          "base_uri": "https://localhost:8080/"
        },
        "id": "zY2u8ayobnqM",
        "outputId": "7be4cdd0-1198-4513-cfe0-e886e12ed7e9"
      },
      "outputs": [
        {
          "output_type": "execute_result",
          "data": {
            "text/plain": [
              "pyspark.sql.dataframe.DataFrame"
            ]
          },
          "metadata": {},
          "execution_count": 55
        }
      ],
      "source": [
        "type(df)"
      ]
    },
    {
      "cell_type": "markdown",
      "metadata": {
        "id": "yk7ROppqbnqN"
      },
      "source": [
        "#### Check distribution after replacing outlier"
      ]
    },
    {
      "cell_type": "code",
      "execution_count": 56,
      "metadata": {
        "colab": {
          "base_uri": "https://localhost:8080/"
        },
        "id": "nnlQNDiJbnqN",
        "outputId": "9699901d-1700-414e-dd67-70497784172d"
      },
      "outputs": [
        {
          "output_type": "stream",
          "name": "stdout",
          "text": [
            "+-------+-----------------+------------------+------------------+\n",
            "|summary|              Age|         AnnIncome|        SpendScore|\n",
            "+-------+-----------------+------------------+------------------+\n",
            "|  count|              200|               200|               200|\n",
            "|   mean|            38.85|             60.54|              50.2|\n",
            "| stddev|13.96900733155888|26.206915348058445|25.823521668370173|\n",
            "|    min|             18.0|              15.0|               1.0|\n",
            "|    max|             70.0|             135.0|              99.0|\n",
            "+-------+-----------------+------------------+------------------+\n",
            "\n"
          ]
        }
      ],
      "source": [
        "df.select(num_cols).describe().show()"
      ]
    },
    {
      "cell_type": "code",
      "execution_count": 57,
      "metadata": {
        "collapsed": true,
        "id": "jD48u-8YbnqO"
      },
      "outputs": [],
      "source": [
        "df_pd3=df.toPandas()"
      ]
    },
    {
      "cell_type": "code",
      "execution_count": 58,
      "metadata": {
        "colab": {
          "base_uri": "https://localhost:8080/",
          "height": 254
        },
        "id": "w2w6bLXybnqO",
        "outputId": "5f54737b-e735-4f05-898b-e7536c9f5289"
      },
      "outputs": [
        {
          "output_type": "display_data",
          "data": {
            "text/plain": [
              "<Figure size 432x288 with 1 Axes>"
            ],
            "image/png": "[encoded data removed]"
          },
          "metadata": {
            "needs_background": "light"
          }
        }
      ],
      "source": [
        "#Check outlier in numerical variable: 'AnnIncome'\n",
        "sns.boxplot(y=\"AnnIncome\",data=df_pd3)\n",
        "plt.show()"
      ]
    },
    {
      "cell_type": "markdown",
      "metadata": {
        "id": "GgvPrQSpbnqP"
      },
      "source": [
        "### Feature Engineering\n",
        "Before splitting the data train, all categorical variables must be made numerical. There are several approaches to categorical variables in SparkML, including:\n",
        "1. StringIndexer, which is to encode the string label into the index label by sequencing the string frequency descending and giving the smallest index (0)\n",
        "at most string frequency.\n",
        "2. One-hot Encoding, which is mapping the label column (string label) on the binary column.\n",
        "3. Vector assembler, which is mapping all columns in vector."
      ]
    },
    {
      "cell_type": "markdown",
      "metadata": {
        "id": "0DPv645ZbnqP"
      },
      "source": [
        "### Scenario I\n",
        "In this scenario, we will include OneHotEncoder process."
      ]
    },
    {
      "cell_type": "code",
      "execution_count": 59,
      "metadata": {
        "colab": {
          "base_uri": "https://localhost:8080/"
        },
        "id": "KKmdMpHGbnqQ",
        "outputId": "7dc24b4d-38de-4fb0-ac30-3608482073f6"
      },
      "outputs": [
        {
          "output_type": "stream",
          "name": "stdout",
          "text": [
            "root\n",
            " |-- Id: integer (nullable = true)\n",
            " |-- Gender: string (nullable = true)\n",
            " |-- Age: double (nullable = true)\n",
            " |-- AnnIncome: double (nullable = true)\n",
            " |-- SpendScore: double (nullable = true)\n",
            "\n"
          ]
        }
      ],
      "source": [
        "df.printSchema()"
      ]
    },
    {
      "cell_type": "code",
      "execution_count": 60,
      "metadata": {
        "colab": {
          "base_uri": "https://localhost:8080/"
        },
        "id": "ngsp7WHwbnqQ",
        "outputId": "0314a52c-a89b-476f-fa11-8bfc9707e98f"
      },
      "outputs": [
        {
          "output_type": "execute_result",
          "data": {
            "text/plain": [
              "['Gender_vec']"
            ]
          },
          "metadata": {},
          "execution_count": 60
        }
      ],
      "source": [
        "# define columns name for string indexer and one hot encoder processing\n",
        "cat_columns_string_vec = []\n",
        "for c in cat_cols:\n",
        "    cat_columns_string= c+\"_vec\"\n",
        "    cat_columns_string_vec.append(cat_columns_string)\n",
        "\n",
        "cat_columns_string_vec"
      ]
    },
    {
      "cell_type": "code",
      "execution_count": 61,
      "metadata": {
        "collapsed": true,
        "id": "qaux8tdpbnqR"
      },
      "outputs": [],
      "source": [
        "#create index for categorical variables with stringIndexer   \n",
        "stringIndexer = [StringIndexer(inputCol=x, outputCol=x+\"_Index\")\n",
        "                  for x in cat_cols]\n",
        "#use oneHotEncoder to convert categorical variable to binary\n",
        "encoder = [OneHotEncoder(inputCol=x+\"_Index\", outputCol=y)\n",
        "           for x,y in zip(cat_cols, cat_columns_string_vec)]\n",
        "tmp = [[i,j] for i,j in zip(stringIndexer, encoder)]\n",
        "tmp = [i for sublist in tmp for i in sublist]"
      ]
    },
    {
      "cell_type": "code",
      "execution_count": 62,
      "metadata": {
        "colab": {
          "base_uri": "https://localhost:8080/"
        },
        "id": "a5JwBc8RbnqU",
        "outputId": "73c06dcb-d4d2-49ec-95e4-c66b98ed8af8"
      },
      "outputs": [
        {
          "output_type": "execute_result",
          "data": {
            "text/plain": [
              "['Age', 'AnnIncome', 'SpendScore', 'Gender_vec']"
            ]
          },
          "metadata": {},
          "execution_count": 62
        }
      ],
      "source": [
        "#define columns for vector assembler processing\n",
        "cols_assember=num_cols + cat_columns_string_vec\n",
        "cols_assember"
      ]
    },
    {
      "cell_type": "code",
      "execution_count": 63,
      "metadata": {
        "collapsed": true,
        "id": "VN0v_vs6bnqV"
      },
      "outputs": [],
      "source": [
        "#create vector assembler from cols_assember\n",
        "assembler=VectorAssembler(inputCols=cols_assember, outputCol='features')\n",
        "tmp += [assembler]\n",
        "\n",
        "#create pipeline for stringIndexer, oneHotEncoder and vectorassembler\n",
        "pipeline=Pipeline(stages=tmp)"
      ]
    },
    {
      "cell_type": "code",
      "execution_count": 64,
      "metadata": {
        "collapsed": true,
        "id": "kzGzrPCybnqW"
      },
      "outputs": [],
      "source": [
        "#fit and transform pipeline to dataframe\n",
        "df_final = pipeline.fit(df).transform(df)"
      ]
    },
    {
      "cell_type": "code",
      "execution_count": 65,
      "metadata": {
        "colab": {
          "base_uri": "https://localhost:8080/"
        },
        "id": "sTjHKMhrbnqX",
        "outputId": "f343cb83-8dc4-4fae-f03f-10204342d9b7"
      },
      "outputs": [
        {
          "output_type": "stream",
          "name": "stdout",
          "text": [
            "+---+------+----+---------+----------+------------+-------------+--------------------+\n",
            "| Id|Gender| Age|AnnIncome|SpendScore|Gender_Index|   Gender_vec|            features|\n",
            "+---+------+----+---------+----------+------------+-------------+--------------------+\n",
            "|  1|  Male|19.0|     15.0|      39.0|         1.0|    (1,[],[])|[19.0,15.0,39.0,0.0]|\n",
            "|  2|  Male|21.0|     15.0|      81.0|         1.0|    (1,[],[])|[21.0,15.0,81.0,0.0]|\n",
            "|  3|Female|20.0|     16.0|       6.0|         0.0|(1,[0],[1.0])| [20.0,16.0,6.0,1.0]|\n",
            "|  4|Female|23.0|     16.0|      77.0|         0.0|(1,[0],[1.0])|[23.0,16.0,77.0,1.0]|\n",
            "+---+------+----+---------+----------+------------+-------------+--------------------+\n",
            "only showing top 4 rows\n",
            "\n"
          ]
        }
      ],
      "source": [
        "df_final.show(4)"
      ]
    },
    {
      "cell_type": "code",
      "execution_count": 66,
      "metadata": {
        "collapsed": true,
        "id": "-yDeg2PobnqY"
      },
      "outputs": [],
      "source": [
        "#create model scaler for normalization\n",
        "scaler = StandardScaler(inputCol=\"features\", outputCol=\"scaledFeatures\", withStd=True, withMean=False)"
      ]
    },
    {
      "cell_type": "code",
      "execution_count": 67,
      "metadata": {
        "collapsed": true,
        "id": "mHLKSUHXbnqZ"
      },
      "outputs": [],
      "source": [
        "#Compute ScalerModel by fitting the StandardScaler\n",
        "scalerModel = scaler.fit(df_final)"
      ]
    },
    {
      "cell_type": "code",
      "execution_count": 68,
      "metadata": {
        "colab": {
          "base_uri": "https://localhost:8080/"
        },
        "id": "uRooXmebbnqZ",
        "outputId": "c9cb1c26-ac2a-4240-ee32-b6311dcd0796"
      },
      "outputs": [
        {
          "output_type": "stream",
          "name": "stdout",
          "text": [
            "+---+--------------------+\n",
            "| Id|      scaledFeatures|\n",
            "+---+--------------------+\n",
            "|  1|[1.36015391423519...|\n",
            "|  2|[1.50332801047048...|\n",
            "|  3|[1.43174096235284...|\n",
            "|  4|[1.64650210670576...|\n",
            "|  5|[2.21919849164690...|\n",
            "|  6|[1.57491505858812...|\n",
            "|  7|[2.50554668411747...|\n",
            "|  8|[1.64650210670576...|\n",
            "|  9|[4.58157107952909...|\n",
            "| 10|[2.14761144352926...|\n",
            "| 11|[4.79633222388201...|\n",
            "| 12|[2.50554668411747...|\n",
            "| 13|[4.15204879082323...|\n",
            "| 14|[1.71808915482340...|\n",
            "| 15|[2.64872078035275...|\n",
            "| 16|[1.57491505858812...|\n",
            "| 17|[2.50554668411747...|\n",
            "| 18|[1.43174096235284...|\n",
            "| 19|[3.72252650211738...|\n",
            "| 20|[2.50554668411747...|\n",
            "+---+--------------------+\n",
            "only showing top 20 rows\n",
            "\n"
          ]
        }
      ],
      "source": [
        "# Normalize each features to have unit standard deviation.\n",
        "cluster_final_data = scalerModel.transform(df_final).select('Id', 'scaledFeatures')\n",
        "cluster_final_data.show()"
      ]
    },
    {
      "cell_type": "markdown",
      "metadata": {
        "collapsed": true,
        "id": "ieYaERD1bnqa"
      },
      "source": [
        "### Modelling"
      ]
    },
    {
      "cell_type": "markdown",
      "metadata": {
        "id": "bPwJDa6Kbnqa"
      },
      "source": [
        "#### Optimize choice of k\n",
        "\n",
        "One disadvantage of KMeans is that the algortihm must told how many cluster - k- that should try to find. To optimize of k, we group fraction of the data for different k and look for an \"elbow\" in the cost function. Then, we plot the \"elbow\"."
      ]
    },
    {
      "cell_type": "code",
      "source": [
        "from pyspark.ml.evaluation import ClusteringEvaluator"
      ],
      "metadata": {
        "id": "PKA_KSm5gCGA"
      },
      "execution_count": 69,
      "outputs": []
    },
    {
      "cell_type": "code",
      "execution_count": 70,
      "metadata": {
        "collapsed": true,
        "id": "iPR5cCQabnqe"
      },
      "outputs": [],
      "source": [
        "#Compute cost function\n",
        "cost= np.zeros(20)\n",
        "for k in range(2,20):\n",
        "    kmeans = KMeans().setK(k).setSeed(1).setFeaturesCol(\"features\")\n",
        "    model = kmeans.fit(df_final)\n",
        "\n",
        "    predictions = model.transform(df_final)\n",
        "    evaluator = ClusteringEvaluator()\n",
        "    cost[k] = evaluator.evaluate(predictions)\n",
        "\n"
      ]
    },
    {
      "cell_type": "code",
      "execution_count": 71,
      "metadata": {
        "colab": {
          "base_uri": "https://localhost:8080/"
        },
        "id": "RdGsvKGqbnqf",
        "outputId": "43287273-97e8-4e4e-f50a-898ab3193320"
      },
      "outputs": [
        {
          "output_type": "execute_result",
          "data": {
            "text/plain": [
              "array([0.        , 0.        , 0.43440805, 0.45114607, 0.57346897,\n",
              "       0.6284431 , 0.59808113, 0.62466439, 0.60626017, 0.59832178,\n",
              "       0.55163094, 0.54950512, 0.54192747, 0.53097025, 0.53489851,\n",
              "       0.51434307, 0.53929645, 0.47209833, 0.51447302, 0.48263949])"
            ]
          },
          "metadata": {},
          "execution_count": 71
        }
      ],
      "source": [
        "cost"
      ]
    },
    {
      "cell_type": "code",
      "execution_count": 72,
      "metadata": {
        "colab": {
          "base_uri": "https://localhost:8080/",
          "height": 442
        },
        "id": "m4C9pO-Zbnqf",
        "outputId": "39b035ad-15eb-4451-d8b3-99a5298b5977"
      },
      "outputs": [
        {
          "output_type": "display_data",
          "data": {
            "text/plain": [
              "<Figure size 720x504 with 1 Axes>"
            ],
            "image/png": "[encoded data removed]"
          },
          "metadata": {
            "needs_background": "light"
          }
        }
      ],
      "source": [
        "#Plot the cost\n",
        "fig, ax = plt.subplots(1,1, figsize=(10,7))\n",
        "ax.plot(range(2,20), cost[2:20])\n",
        "ax.set_xlabel('k')\n",
        "ax.set_ylabel('cost')\n",
        "plt.show()"
      ]
    },
    {
      "cell_type": "markdown",
      "metadata": {
        "id": "frvGYrnObnqg"
      },
      "source": [
        "From pictures above, we can see that there is litte gain after k=5, so we stick at are values."
      ]
    },
    {
      "cell_type": "code",
      "execution_count": 73,
      "metadata": {
        "colab": {
          "base_uri": "https://localhost:8080/"
        },
        "id": "Xnb5sQ14bnqg",
        "outputId": "fe1af2b6-61d5-4b54-a8f9-e554afca7c36"
      },
      "outputs": [
        {
          "output_type": "stream",
          "name": "stdout",
          "text": [
            "Cluster Centers: \n",
            "[24.96 28.04 77.    0.56]\n",
            "[45.2173913  26.30434783 20.91304348  0.60869565]\n",
            "[40.32432432 87.37837838 18.18918919  0.48648649]\n",
            "[32.69230769 86.48717949 82.12820513  0.53846154]\n",
            "[43.93421053 55.21052632 49.44736842  0.59210526]\n"
          ]
        }
      ],
      "source": [
        "#Create model KMeans with K=5\n",
        "#kmeans2 = KMeans(featuresCol='scaledFeatures',k=2).setSeed(1)\n",
        "\n",
        "k = 5\n",
        "kmeans = KMeans().setK(k).setSeed(1).setFeaturesCol(\"features\")\n",
        "model = kmeans.fit(df_final)\n",
        "centers = model.clusterCenters()\n",
        "\n",
        "print(\"Cluster Centers: \")\n",
        "for center in centers:\n",
        "    print(center)"
      ]
    },
    {
      "cell_type": "code",
      "execution_count": 74,
      "metadata": {
        "collapsed": true,
        "id": "pVW-yEbpbnqh"
      },
      "outputs": [],
      "source": [
        "#transfrom model to dataset\n",
        "test=model.transform(df_final)"
      ]
    },
    {
      "cell_type": "code",
      "execution_count": 75,
      "metadata": {
        "colab": {
          "base_uri": "https://localhost:8080/"
        },
        "id": "xTeMgjh5bnqh",
        "outputId": "8cac5af9-be0e-43ac-f308-70f60ed7cabe"
      },
      "outputs": [
        {
          "output_type": "execute_result",
          "data": {
            "text/plain": [
              "pyspark.sql.dataframe.DataFrame"
            ]
          },
          "metadata": {},
          "execution_count": 75
        }
      ],
      "source": [
        "type(test)"
      ]
    },
    {
      "cell_type": "code",
      "execution_count": 76,
      "metadata": {
        "colab": {
          "base_uri": "https://localhost:8080/"
        },
        "id": "fXpFZKKzbnqi",
        "outputId": "a3303350-2eda-4994-cbae-2e3e59c3fff5"
      },
      "outputs": [
        {
          "output_type": "stream",
          "name": "stdout",
          "text": [
            "+---+------+----+---------+----------+------------+-------------+--------------------+----------+\n",
            "| Id|Gender| Age|AnnIncome|SpendScore|Gender_Index|   Gender_vec|            features|prediction|\n",
            "+---+------+----+---------+----------+------------+-------------+--------------------+----------+\n",
            "|  1|  Male|19.0|     15.0|      39.0|         1.0|    (1,[],[])|[19.0,15.0,39.0,0.0]|         1|\n",
            "|  2|  Male|21.0|     15.0|      81.0|         1.0|    (1,[],[])|[21.0,15.0,81.0,0.0]|         0|\n",
            "|  3|Female|20.0|     16.0|       6.0|         0.0|(1,[0],[1.0])| [20.0,16.0,6.0,1.0]|         1|\n",
            "|  4|Female|23.0|     16.0|      77.0|         0.0|(1,[0],[1.0])|[23.0,16.0,77.0,1.0]|         0|\n",
            "+---+------+----+---------+----------+------------+-------------+--------------------+----------+\n",
            "only showing top 4 rows\n",
            "\n"
          ]
        }
      ],
      "source": [
        "test.show(4)"
      ]
    },
    {
      "cell_type": "code",
      "execution_count": 77,
      "metadata": {
        "colab": {
          "base_uri": "https://localhost:8080/"
        },
        "id": "v8OViTjubnqj",
        "outputId": "282b903c-0086-4ed3-d705-c62871483b8b"
      },
      "outputs": [
        {
          "output_type": "execute_result",
          "data": {
            "text/plain": [
              "['Age', 'AnnIncome', 'SpendScore']"
            ]
          },
          "metadata": {},
          "execution_count": 77
        }
      ],
      "source": [
        "num_cols"
      ]
    },
    {
      "cell_type": "code",
      "execution_count": 78,
      "metadata": {
        "id": "q1py3kVObnqk"
      },
      "outputs": [],
      "source": [
        "#Assign cluster to the event in data\n",
        "prediction= model.transform(df_final).select(*num_cols,*cat_cols, 'prediction').collect()\n",
        "\n",
        "#create dataframe \n",
        "prediction=spark.createDataFrame(prediction)"
      ]
    },
    {
      "cell_type": "code",
      "execution_count": 79,
      "metadata": {
        "colab": {
          "base_uri": "https://localhost:8080/"
        },
        "id": "n-DS7kcUbnql",
        "outputId": "0b78460e-b2de-4dd7-ad25-94ac5a6cb7c9"
      },
      "outputs": [
        {
          "output_type": "stream",
          "name": "stdout",
          "text": [
            "+----+---------+----------+------+----------+\n",
            "| Age|AnnIncome|SpendScore|Gender|prediction|\n",
            "+----+---------+----------+------+----------+\n",
            "|19.0|     15.0|      39.0|  Male|         1|\n",
            "|21.0|     15.0|      81.0|  Male|         0|\n",
            "|20.0|     16.0|       6.0|Female|         1|\n",
            "|23.0|     16.0|      77.0|Female|         0|\n",
            "|31.0|     17.0|      40.0|Female|         1|\n",
            "|22.0|     17.0|      76.0|Female|         0|\n",
            "|35.0|     18.0|       6.0|Female|         1|\n",
            "|23.0|     18.0|      94.0|Female|         0|\n",
            "|64.0|     19.0|       3.0|  Male|         1|\n",
            "|30.0|     19.0|      72.0|Female|         0|\n",
            "|67.0|     19.0|      14.0|  Male|         1|\n",
            "|35.0|     19.0|      99.0|Female|         0|\n",
            "|58.0|     20.0|      15.0|Female|         1|\n",
            "|24.0|     20.0|      77.0|Female|         0|\n",
            "|37.0|     20.0|      13.0|  Male|         1|\n",
            "|22.0|     20.0|      79.0|  Male|         0|\n",
            "|35.0|     21.0|      35.0|Female|         1|\n",
            "|20.0|     21.0|      66.0|  Male|         0|\n",
            "|52.0|     23.0|      29.0|  Male|         1|\n",
            "|35.0|     23.0|      98.0|Female|         0|\n",
            "+----+---------+----------+------+----------+\n",
            "only showing top 20 rows\n",
            "\n"
          ]
        }
      ],
      "source": [
        "prediction.show()"
      ]
    },
    {
      "cell_type": "code",
      "execution_count": 80,
      "metadata": {
        "colab": {
          "base_uri": "https://localhost:8080/"
        },
        "id": "6Rmi2ifKbnqm",
        "outputId": "b53b0981-0ad4-4e6a-9fba-5db7b193b339"
      },
      "outputs": [
        {
          "output_type": "stream",
          "name": "stdout",
          "text": [
            "+----------+-----+\n",
            "|prediction|count|\n",
            "+----------+-----+\n",
            "|         0|   25|\n",
            "|         1|   23|\n",
            "|         2|   37|\n",
            "|         3|   39|\n",
            "|         4|   76|\n",
            "+----------+-----+\n",
            "\n"
          ]
        }
      ],
      "source": [
        "#grouping by our prediction of cluster\n",
        "prediction.groupBy('prediction').count().sort(col('prediction')).show()"
      ]
    },
    {
      "cell_type": "markdown",
      "metadata": {
        "id": "a3ySGzhIbnqm"
      },
      "source": [
        "### Scenario 2\n",
        "\n",
        "We will exclude OneHotEncoder processing for categorical variable. We just select numerical variables as predictor"
      ]
    },
    {
      "cell_type": "code",
      "execution_count": 82,
      "metadata": {
        "colab": {
          "base_uri": "https://localhost:8080/"
        },
        "id": "p7cp9RNNbnqm",
        "outputId": "ff491c8b-8ac9-407b-8683-8e91951cbf63"
      },
      "outputs": [
        {
          "output_type": "stream",
          "name": "stdout",
          "text": [
            "+---+----+---------+----------+\n",
            "| Id| Age|AnnIncome|SpendScore|\n",
            "+---+----+---------+----------+\n",
            "|  1|19.0|     15.0|      39.0|\n",
            "|  2|21.0|     15.0|      81.0|\n",
            "|  3|20.0|     16.0|       6.0|\n",
            "|  4|23.0|     16.0|      77.0|\n",
            "+---+----+---------+----------+\n",
            "only showing top 4 rows\n",
            "\n"
          ]
        }
      ],
      "source": [
        "df_final2=df.drop(*cat_cols)\n",
        "df_final2.show(4)"
      ]
    },
    {
      "cell_type": "code",
      "execution_count": 83,
      "metadata": {
        "collapsed": true,
        "id": "gq7ZhiiIbnqn"
      },
      "outputs": [],
      "source": [
        "#define columns for vector assembler processing\n",
        "cols_assember=num_cols"
      ]
    },
    {
      "cell_type": "code",
      "execution_count": 84,
      "metadata": {
        "collapsed": true,
        "id": "MknycgOYbnqn"
      },
      "outputs": [],
      "source": [
        "#create vector assembler from cols_assember\n",
        "assembler=VectorAssembler(inputCols=cols_assember, outputCol='features')"
      ]
    },
    {
      "cell_type": "code",
      "execution_count": 85,
      "metadata": {
        "collapsed": true,
        "id": "-wJ_gBGjbnqo"
      },
      "outputs": [],
      "source": [
        "#transform vector assembler to dataset\n",
        "final_data2 = assembler.transform(df_final2)"
      ]
    },
    {
      "cell_type": "code",
      "execution_count": 86,
      "metadata": {
        "colab": {
          "base_uri": "https://localhost:8080/"
        },
        "id": "baAPGkj0bnqo",
        "outputId": "06dd985f-9624-44f5-d2e3-95ecbffea6b5"
      },
      "outputs": [
        {
          "output_type": "stream",
          "name": "stdout",
          "text": [
            "+---+----+---------+----------+----------------+\n",
            "| Id| Age|AnnIncome|SpendScore|        features|\n",
            "+---+----+---------+----------+----------------+\n",
            "|  1|19.0|     15.0|      39.0|[19.0,15.0,39.0]|\n",
            "|  2|21.0|     15.0|      81.0|[21.0,15.0,81.0]|\n",
            "|  3|20.0|     16.0|       6.0| [20.0,16.0,6.0]|\n",
            "|  4|23.0|     16.0|      77.0|[23.0,16.0,77.0]|\n",
            "+---+----+---------+----------+----------------+\n",
            "only showing top 4 rows\n",
            "\n"
          ]
        }
      ],
      "source": [
        "final_data2.show(4)"
      ]
    },
    {
      "cell_type": "code",
      "execution_count": 87,
      "metadata": {
        "collapsed": true,
        "id": "7Phns1mubnqp"
      },
      "outputs": [],
      "source": [
        "#create model scaler for normalization\n",
        "scaler = StandardScaler(inputCol=\"features\", outputCol=\"scaledFeatures\", withStd=True, withMean=False)"
      ]
    },
    {
      "cell_type": "code",
      "execution_count": 88,
      "metadata": {
        "collapsed": true,
        "id": "kAd1LyVLbnqp"
      },
      "outputs": [],
      "source": [
        "# Compute ScalerModel by fitting the StandardScaler\n",
        "scalerModel = scaler.fit(final_data2)"
      ]
    },
    {
      "cell_type": "code",
      "execution_count": 89,
      "metadata": {
        "colab": {
          "base_uri": "https://localhost:8080/"
        },
        "id": "14_ZxI3Abnqq",
        "outputId": "235b6ac3-ae54-4e5d-db32-93ce01e2ba11"
      },
      "outputs": [
        {
          "output_type": "stream",
          "name": "stdout",
          "text": [
            "+---+--------------------+\n",
            "| Id|      scaledFeatures|\n",
            "+---+--------------------+\n",
            "|  1|[1.36015391423519...|\n",
            "|  2|[1.50332801047048...|\n",
            "|  3|[1.43174096235284...|\n",
            "|  4|[1.64650210670576...|\n",
            "|  5|[2.21919849164690...|\n",
            "|  6|[1.57491505858812...|\n",
            "+---+--------------------+\n",
            "only showing top 6 rows\n",
            "\n"
          ]
        }
      ],
      "source": [
        "# Normalize each feature to have unit standard deviation.\n",
        "cluster_final_data2 = scalerModel.transform(final_data2).select('Id', 'scaledFeatures')\n",
        "cluster_final_data2.show(6)"
      ]
    },
    {
      "cell_type": "markdown",
      "metadata": {
        "id": "3yIBIQE4bnqq"
      },
      "source": [
        "#### Optimize choice of k"
      ]
    },
    {
      "cell_type": "code",
      "execution_count": 90,
      "metadata": {
        "collapsed": true,
        "id": "ZhIQrlr8bnqq"
      },
      "outputs": [],
      "source": [
        "#Compute cost function\n",
        "cost2= np.zeros(20)\n",
        "for k in range(2,20):\n",
        "    kmeans = KMeans().setK(k).setSeed(1).setFeaturesCol(\"features\")\n",
        "\n",
        "    model2 = kmeans.fit(final_data2)\n",
        "    \n",
        "   \n",
        "    predictions = model2.transform(final_data2)\n",
        "    evaluator = ClusteringEvaluator()\n",
        "\n",
        "    cost2[k] = evaluator.evaluate(predictions)"
      ]
    },
    {
      "cell_type": "code",
      "execution_count": 91,
      "metadata": {
        "colab": {
          "base_uri": "https://localhost:8080/",
          "height": 442
        },
        "id": "aCbpPT-ybnqr",
        "outputId": "534b0594-edbf-46d4-e17b-1fbf0e3a8101"
      },
      "outputs": [
        {
          "output_type": "display_data",
          "data": {
            "text/plain": [
              "<Figure size 720x504 with 1 Axes>"
            ],
            "image/png": "[encoded data removed]"
          },
          "metadata": {
            "needs_background": "light"
          }
        }
      ],
      "source": [
        "fig, ax = plt.subplots(1,1, figsize=(10,7))\n",
        "ax.plot(range(2,20), cost2[2:20])\n",
        "ax.set_xlabel('k')\n",
        "ax.set_ylabel('cost')\n",
        "plt.show()"
      ]
    },
    {
      "cell_type": "markdown",
      "metadata": {
        "id": "Hi1Nw1N9bnqs"
      },
      "source": [
        "From picture above, we can see that there is litte gain after k=5, so we can stick at that value."
      ]
    },
    {
      "cell_type": "code",
      "execution_count": 92,
      "metadata": {
        "colab": {
          "base_uri": "https://localhost:8080/"
        },
        "id": "Kj3kf2-Ibnqs",
        "outputId": "4d545390-93c9-4bbf-f562-2150c2824439"
      },
      "outputs": [
        {
          "output_type": "stream",
          "name": "stdout",
          "text": [
            "Cluster Centers: \n",
            "[24.96 28.04 77.  ]\n",
            "[45.2173913  26.30434783 20.91304348]\n",
            "[40.32432432 87.37837838 18.18918919]\n",
            "[32.69230769 86.48717949 82.12820513]\n",
            "[43.93421053 55.21052632 49.44736842]\n"
          ]
        }
      ],
      "source": [
        "#Create model KMeans\n",
        "k = 5\n",
        "kmeans2 = KMeans().setK(k).setSeed(1).setFeaturesCol(\"features\")\n",
        "model_k5 = kmeans2.fit(final_data2)\n",
        "centers2 = model_k5.clusterCenters()\n",
        "\n",
        "print(\"Cluster Centers: \")\n",
        "for center in centers2:\n",
        "    print(center)"
      ]
    },
    {
      "cell_type": "code",
      "execution_count": 93,
      "metadata": {
        "collapsed": true,
        "id": "EMvGLmJabnqs"
      },
      "outputs": [],
      "source": [
        "#Assign cluster to the event in data\n",
        "prediction2= model_k5.transform(final_data2).select(*num_id,*num_cols, 'prediction').collect()\n",
        "\n",
        "#create dataframe \n",
        "prediction2=spark.createDataFrame(prediction2)"
      ]
    },
    {
      "cell_type": "code",
      "execution_count": 94,
      "metadata": {
        "colab": {
          "base_uri": "https://localhost:8080/"
        },
        "id": "RhvQXKZ5bnqt",
        "outputId": "f3cb2649-2aa1-4f7a-dbaa-317338e73656"
      },
      "outputs": [
        {
          "output_type": "stream",
          "name": "stdout",
          "text": [
            "+---+----+---------+----------+----------+\n",
            "| Id| Age|AnnIncome|SpendScore|prediction|\n",
            "+---+----+---------+----------+----------+\n",
            "|  1|19.0|     15.0|      39.0|         1|\n",
            "|  2|21.0|     15.0|      81.0|         0|\n",
            "|  3|20.0|     16.0|       6.0|         1|\n",
            "|  4|23.0|     16.0|      77.0|         0|\n",
            "|  5|31.0|     17.0|      40.0|         1|\n",
            "|  6|22.0|     17.0|      76.0|         0|\n",
            "|  7|35.0|     18.0|       6.0|         1|\n",
            "|  8|23.0|     18.0|      94.0|         0|\n",
            "|  9|64.0|     19.0|       3.0|         1|\n",
            "| 10|30.0|     19.0|      72.0|         0|\n",
            "| 11|67.0|     19.0|      14.0|         1|\n",
            "| 12|35.0|     19.0|      99.0|         0|\n",
            "| 13|58.0|     20.0|      15.0|         1|\n",
            "| 14|24.0|     20.0|      77.0|         0|\n",
            "| 15|37.0|     20.0|      13.0|         1|\n",
            "| 16|22.0|     20.0|      79.0|         0|\n",
            "| 17|35.0|     21.0|      35.0|         1|\n",
            "| 18|20.0|     21.0|      66.0|         0|\n",
            "| 19|52.0|     23.0|      29.0|         1|\n",
            "| 20|35.0|     23.0|      98.0|         0|\n",
            "+---+----+---------+----------+----------+\n",
            "only showing top 20 rows\n",
            "\n"
          ]
        }
      ],
      "source": [
        "#show dataframe\n",
        "prediction2.show()"
      ]
    },
    {
      "cell_type": "code",
      "execution_count": 95,
      "metadata": {
        "colab": {
          "base_uri": "https://localhost:8080/"
        },
        "id": "dcFZJy3qbnqt",
        "outputId": "6529cc01-5482-4757-c35d-cda2ecc96e65"
      },
      "outputs": [
        {
          "output_type": "stream",
          "name": "stdout",
          "text": [
            "+----------+-----+\n",
            "|prediction|count|\n",
            "+----------+-----+\n",
            "|         0|   25|\n",
            "|         1|   23|\n",
            "|         4|   76|\n",
            "|         3|   39|\n",
            "|         2|   37|\n",
            "+----------+-----+\n",
            "\n"
          ]
        }
      ],
      "source": [
        "#grouping by cluster prediction\n",
        "prediction2.groupBy('prediction').count().show()"
      ]
    },
    {
      "cell_type": "markdown",
      "metadata": {
        "id": "F4kiG6spbnqu"
      },
      "source": [
        "Join prediction with original data"
      ]
    },
    {
      "cell_type": "code",
      "execution_count": 96,
      "metadata": {
        "colab": {
          "base_uri": "https://localhost:8080/"
        },
        "id": "THiJGaV9bnqu",
        "outputId": "3b3a453a-1b68-4819-c1bf-c00ae069e12f"
      },
      "outputs": [
        {
          "output_type": "stream",
          "name": "stdout",
          "text": [
            "+---+----+---------+----------+----------+------+----+---------+----------+\n",
            "| Id| Age|AnnIncome|SpendScore|prediction|Gender| Age|AnnIncome|SpendScore|\n",
            "+---+----+---------+----------+----------+------+----+---------+----------+\n",
            "|  1|19.0|     15.0|      39.0|         1|  Male|19.0|     15.0|      39.0|\n",
            "|  2|21.0|     15.0|      81.0|         0|  Male|21.0|     15.0|      81.0|\n",
            "|  3|20.0|     16.0|       6.0|         1|Female|20.0|     16.0|       6.0|\n",
            "|  4|23.0|     16.0|      77.0|         0|Female|23.0|     16.0|      77.0|\n",
            "|  5|31.0|     17.0|      40.0|         1|Female|31.0|     17.0|      40.0|\n",
            "|  6|22.0|     17.0|      76.0|         0|Female|22.0|     17.0|      76.0|\n",
            "+---+----+---------+----------+----------+------+----+---------+----------+\n",
            "only showing top 6 rows\n",
            "\n"
          ]
        }
      ],
      "source": [
        "#Join \n",
        "prediction3=prediction2.join(df, 'Id')\n",
        "prediction3.show(6)"
      ]
    },
    {
      "cell_type": "code",
      "execution_count": 97,
      "metadata": {
        "colab": {
          "base_uri": "https://localhost:8080/"
        },
        "id": "Z1TlYiBsbnqv",
        "outputId": "a13f6fe4-6f31-471c-90e5-92c3743dabd5"
      },
      "outputs": [
        {
          "output_type": "stream",
          "name": "stdout",
          "text": [
            "+----------+-----------------+\n",
            "|prediction|         avg(Age)|\n",
            "+----------+-----------------+\n",
            "|         0|            24.96|\n",
            "|         1|45.21739130434783|\n",
            "|         4|43.93421052631579|\n",
            "|         3|32.69230769230769|\n",
            "|         2|40.32432432432432|\n",
            "+----------+-----------------+\n",
            "\n"
          ]
        }
      ],
      "source": [
        "#grouping by cluster prediction and check average of age\n",
        "prediction2.groupBy('prediction').agg({'Age':'mean'}).show()"
      ]
    },
    {
      "cell_type": "code",
      "execution_count": 98,
      "metadata": {
        "colab": {
          "base_uri": "https://localhost:8080/"
        },
        "id": "Uhz2fI0gbnqv",
        "outputId": "b7aa26df-9383-4a2b-d3dc-166d46de7d87"
      },
      "outputs": [
        {
          "output_type": "stream",
          "name": "stdout",
          "text": [
            "+----------+------------------+-----------------+------------------+-----------------+---------------+\n",
            "|prediction|           avg(Id)|         avg(Age)|    avg(AnnIncome)|  avg(SpendScore)|avg(prediction)|\n",
            "+----------+------------------+-----------------+------------------+-----------------+---------------+\n",
            "|         0|             27.48|            24.96|             28.04|             77.0|            0.0|\n",
            "|         1|              23.0|45.21739130434783|26.304347826086957|20.91304347826087|            1.0|\n",
            "|         4| 86.01315789473684|43.93421052631579| 55.21052631578947|49.44736842105263|            4.0|\n",
            "|         3|             162.0|32.69230769230769| 86.48717948717949|82.12820512820512|            3.0|\n",
            "|         2|162.94594594594594|40.32432432432432| 87.37837837837837|18.18918918918919|            2.0|\n",
            "+----------+------------------+-----------------+------------------+-----------------+---------------+\n",
            "\n"
          ]
        }
      ],
      "source": [
        "#grouping by cluster prediction and check average of all numerical variable\n",
        "prediction2.groupBy('prediction').avg().show()"
      ]
    },
    {
      "cell_type": "markdown",
      "metadata": {
        "id": "TffAKL2Vbnqv"
      },
      "source": [
        "#### Visualize the result\n",
        "\n",
        "To create the visualization, convert the result dataframe spark to pandas dataframe. We will create 3D visualization from Age, AnnIncome and SpendScore as predictor."
      ]
    },
    {
      "cell_type": "code",
      "execution_count": 103,
      "metadata": {
        "collapsed": true,
        "id": "NRJsZAy_bnqw"
      },
      "outputs": [],
      "source": [
        "#convert prediction to Pandas\n",
        "pred_pd=prediction2.toPandas().set_index('Id')"
      ]
    },
    {
      "cell_type": "code",
      "execution_count": 104,
      "metadata": {
        "colab": {
          "base_uri": "https://localhost:8080/",
          "height": 238
        },
        "id": "D_06bYVIbnqx",
        "outputId": "ed3eac90-0b6e-4e47-c345-09f858f29842"
      },
      "outputs": [
        {
          "output_type": "execute_result",
          "data": {
            "text/plain": [
              "     Age  AnnIncome  SpendScore  prediction\n",
              "Id                                         \n",
              "1   19.0       15.0        39.0           1\n",
              "2   21.0       15.0        81.0           0\n",
              "3   20.0       16.0         6.0           1\n",
              "4   23.0       16.0        77.0           0\n",
              "5   31.0       17.0        40.0           1"
            ],
            "text/html": [
              "\n",
              "  <div id=\"df-bb5b8e57-8405-4687-b359-82aba4c1ad4e\">\n",
              "    <div class=\"colab-df-container\">\n",
              "      <div>\n",
              "<style scoped>\n",
              "    .dataframe tbody tr th:only-of-type {\n",
              "        vertical-align: middle;\n",
              "    }\n",
              "\n",
              "    .dataframe tbody tr th {\n",
              "        vertical-align: top;\n",
              "    }\n",
              "\n",
              "    .dataframe thead th {\n",
              "        text-align: right;\n",
              "    }\n",
              "</style>\n",
              "<table border=\"1\" class=\"dataframe\">\n",
              "  <thead>\n",
              "    <tr style=\"text-align: right;\">\n",
              "      <th></th>\n",
              "      <th>Age</th>\n",
              "      <th>AnnIncome</th>\n",
              "      <th>SpendScore</th>\n",
              "      <th>prediction</th>\n",
              "    </tr>\n",
              "    <tr>\n",
              "      <th>Id</th>\n",
              "      <th></th>\n",
              "      <th></th>\n",
              "      <th></th>\n",
              "      <th></th>\n",
              "    </tr>\n",
              "  </thead>\n",
              "  <tbody>\n",
              "    <tr>\n",
              "      <th>1</th>\n",
              "      <td>19.0</td>\n",
              "      <td>15.0</td>\n",
              "      <td>39.0</td>\n",
              "      <td>1</td>\n",
              "    </tr>\n",
              "    <tr>\n",
              "      <th>2</th>\n",
              "      <td>21.0</td>\n",
              "      <td>15.0</td>\n",
              "      <td>81.0</td>\n",
              "      <td>0</td>\n",
              "    </tr>\n",
              "    <tr>\n",
              "      <th>3</th>\n",
              "      <td>20.0</td>\n",
              "      <td>16.0</td>\n",
              "      <td>6.0</td>\n",
              "      <td>1</td>\n",
              "    </tr>\n",
              "    <tr>\n",
              "      <th>4</th>\n",
              "      <td>23.0</td>\n",
              "      <td>16.0</td>\n",
              "      <td>77.0</td>\n",
              "      <td>0</td>\n",
              "    </tr>\n",
              "    <tr>\n",
              "      <th>5</th>\n",
              "      <td>31.0</td>\n",
              "      <td>17.0</td>\n",
              "      <td>40.0</td>\n",
              "      <td>1</td>\n",
              "    </tr>\n",
              "  </tbody>\n",
              "</table>\n",
              "</div>\n",
              "      <button class=\"colab-df-convert\" onclick=\"convertToInteractive('df-bb5b8e57-8405-4687-b359-82aba4c1ad4e')\"\n",
              "              title=\"Convert this dataframe to an interactive table.\"\n",
              "              style=\"display:none;\">\n",
              "        \n",
              "  <svg xmlns=\"http://www.w3.org/2000/svg\" height=\"24px\"viewBox=\"0 0 24 24\"\n",
              "       width=\"24px\">\n",
              "    <path d=\"M0 0h24v24H0V0z\" fill=\"none\"/>\n",
              "    <path d=\"M18.56 5.44l.94 2.06.94-2.06 2.06-.94-2.06-.94-.94-2.06-.94 2.06-2.06.94zm-11 1L8.5 8.5l.94-2.06 2.06-.94-2.06-.94L8.5 2.5l-.94 2.06-2.06.94zm10 10l.94 2.06.94-2.06 2.06-.94-2.06-.94-.94-2.06-.94 2.06-2.06.94z\"/><path d=\"M17.41 7.96l-1.37-1.37c-.4-.4-.92-.59-1.43-.59-.52 0-1.04.2-1.43.59L10.3 9.45l-7.72 7.72c-.78.78-.78 2.05 0 2.83L4 21.41c.39.39.9.59 1.41.59.51 0 1.02-.2 1.41-.59l7.78-7.78 2.81-2.81c.8-.78.8-2.07 0-2.86zM5.41 20L4 18.59l7.72-7.72 1.47 1.35L5.41 20z\"/>\n",
              "  </svg>\n",
              "      </button>\n",
              "      \n",
              "  <style>\n",
              "    .colab-df-container {\n",
              "      display:flex;\n",
              "      flex-wrap:wrap;\n",
              "      gap: 12px;\n",
              "    }\n",
              "\n",
              "    .colab-df-convert {\n",
              "      background-color: #E8F0FE;\n",
              "      border: none;\n",
              "      border-radius: 50%;\n",
              "      cursor: pointer;\n",
              "      display: none;\n",
              "      fill: #1967D2;\n",
              "      height: 32px;\n",
              "      padding: 0 0 0 0;\n",
              "      width: 32px;\n",
              "    }\n",
              "\n",
              "    .colab-df-convert:hover {\n",
              "      background-color: #E2EBFA;\n",
              "      box-shadow: 0px 1px 2px rgba(60, 64, 67, 0.3), 0px 1px 3px 1px rgba(60, 64, 67, 0.15);\n",
              "      fill: #174EA6;\n",
              "    }\n",
              "\n",
              "    [theme=dark] .colab-df-convert {\n",
              "      background-color: #3B4455;\n",
              "      fill: #D2E3FC;\n",
              "    }\n",
              "\n",
              "    [theme=dark] .colab-df-convert:hover {\n",
              "      background-color: #434B5C;\n",
              "      box-shadow: 0px 1px 3px 1px rgba(0, 0, 0, 0.15);\n",
              "      filter: drop-shadow(0px 1px 2px rgba(0, 0, 0, 0.3));\n",
              "      fill: #FFFFFF;\n",
              "    }\n",
              "  </style>\n",
              "\n",
              "      <script>\n",
              "        const buttonEl =\n",
              "          document.querySelector('#df-bb5b8e57-8405-4687-b359-82aba4c1ad4e button.colab-df-convert');\n",
              "        buttonEl.style.display =\n",
              "          google.colab.kernel.accessAllowed ? 'block' : 'none';\n",
              "\n",
              "        async function convertToInteractive(key) {\n",
              "          const element = document.querySelector('#df-bb5b8e57-8405-4687-b359-82aba4c1ad4e');\n",
              "          const dataTable =\n",
              "            await google.colab.kernel.invokeFunction('convertToInteractive',\n",
              "                                                     [key], {});\n",
              "          if (!dataTable) return;\n",
              "\n",
              "          const docLinkHtml = 'Like what you see? Visit the ' +\n",
              "            '<a target=\"_blank\" href=https://colab.research.google.com/notebooks/data_table.ipynb>data table notebook</a>'\n",
              "            + ' to learn more about interactive tables.';\n",
              "          element.innerHTML = '';\n",
              "          dataTable['output_type'] = 'display_data';\n",
              "          await google.colab.output.renderOutput(dataTable, element);\n",
              "          const docLink = document.createElement('div');\n",
              "          docLink.innerHTML = docLinkHtml;\n",
              "          element.appendChild(docLink);\n",
              "        }\n",
              "      </script>\n",
              "    </div>\n",
              "  </div>\n",
              "  "
            ]
          },
          "metadata": {},
          "execution_count": 104
        }
      ],
      "source": [
        "#show pandas dataframe\n",
        "pred_pd.head(5)"
      ]
    },
    {
      "cell_type": "code",
      "execution_count": 105,
      "metadata": {
        "collapsed": true,
        "id": "876UmZGMbnqz"
      },
      "outputs": [],
      "source": [
        "from mpl_toolkits.mplot3d import Axes3D"
      ]
    },
    {
      "cell_type": "code",
      "execution_count": 106,
      "metadata": {
        "colab": {
          "base_uri": "https://localhost:8080/",
          "height": 575
        },
        "id": "RzGdq3gdbnq0",
        "outputId": "5f3b483f-a11d-47cb-f938-18dc1208a21d"
      },
      "outputs": [
        {
          "output_type": "display_data",
          "data": {
            "text/plain": [
              "<Figure size 864x720 with 1 Axes>"
            ],
            "image/png": "[encoded data removed]"
          },
          "metadata": {
            "needs_background": "light"
          }
        }
      ],
      "source": [
        "#Create 3d visualization\n",
        "threedee = plt.figure(figsize=(12,10)).gca(projection='3d')\n",
        "threedee.scatter(pred_pd.Age, pred_pd.AnnIncome, pred_pd.SpendScore, c=pred_pd.prediction, cmap=\"seismic\")\n",
        "threedee.set_title('Customer Mall CLustering')\n",
        "threedee.set_xlabel('Age')\n",
        "threedee.set_ylabel('AnnIncome')\n",
        "threedee.set_zlabel('SpendScore')\n",
        "plt.show()"
      ]
    },
    {
      "cell_type": "code",
      "execution_count": 106,
      "metadata": {
        "collapsed": true,
        "id": "9bRV1SHebnq0"
      },
      "outputs": [],
      "source": []
    }
  ],
  "metadata": {
    "kernelspec": {
      "display_name": "Python 3.9.7 ('base')",
      "language": "python",
      "name": "python3"
    },
    "language_info": {
      "codemirror_mode": {
        "name": "ipython",
        "version": 3
      },
      "file_extension": ".py",
      "mimetype": "text/x-python",
      "name": "python",
      "nbconvert_exporter": "python",
      "pygments_lexer": "ipython3",
      "version": "3.9.7"
    },
    "vscode": {
      "interpreter": {
        "hash": "1440f021e17182a9c0159ecb23cc3edc6c9625118eb0d3610570c15d1ea9907b"
      }
    },
    "colab": {
      "provenance": []
    }
  },
  "nbformat": 4,
  "nbformat_minor": 0
}